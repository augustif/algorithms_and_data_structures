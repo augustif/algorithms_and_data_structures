{
 "cells": [
  {
   "cell_type": "code",
   "execution_count": 5,
   "metadata": {},
   "outputs": [],
   "source": [
    "class Solution1:\n",
    "    def maximumWealth(self, accounts: list[list[int]]) -> int:\n",
    "        wealths = [sum(account) for account in accounts]\n",
    "        return max(wealths)\n",
    "    \n",
    "class Solution0:\n",
    "    def maximumWealth(self, accounts: list[list[int]]) -> int:\n",
    "        max_wealth = 0\n",
    "        for i in range(0,len(accounts)):\n",
    "            i_wealth = 0\n",
    "            for j in range(0,len(accounts[0])):\n",
    "                i_wealth += accounts[i][j]\n",
    "            if max_wealth < i_wealth:\n",
    "                max_wealth = i_wealth\n",
    "        return max_wealth\n",
    "\n"
   ]
  },
  {
   "cell_type": "code",
   "execution_count": 6,
   "metadata": {},
   "outputs": [],
   "source": [
    "accounts = [\n",
    "    [1,7],\n",
    "    [2,4],\n",
    "    [3,5]\n",
    "    ]"
   ]
  },
  {
   "cell_type": "code",
   "execution_count": 10,
   "metadata": {},
   "outputs": [
    {
     "name": "stdout",
     "output_type": "stream",
     "text": [
      "8\n"
     ]
    }
   ],
   "source": [
    "sol_0 = Solution0()\n",
    "print(sol_0.maximumWealth(accounts))\n",
    "# time complexity: O(m*n)\n",
    "# space complexity: O(1)"
   ]
  },
  {
   "cell_type": "code",
   "execution_count": 11,
   "metadata": {},
   "outputs": [
    {
     "name": "stdout",
     "output_type": "stream",
     "text": [
      "8\n"
     ]
    }
   ],
   "source": [
    "sol_0 = Solution1()\n",
    "print(sol_0.maximumWealth(accounts))\n",
    "# time complexity: O(m*n)\n",
    "# space complexity: O(1)"
   ]
  }
 ],
 "metadata": {
  "kernelspec": {
   "display_name": ".venv",
   "language": "python",
   "name": "python3"
  },
  "language_info": {
   "codemirror_mode": {
    "name": "ipython",
    "version": 3
   },
   "file_extension": ".py",
   "mimetype": "text/x-python",
   "name": "python",
   "nbconvert_exporter": "python",
   "pygments_lexer": "ipython3",
   "version": "3.12.2"
  }
 },
 "nbformat": 4,
 "nbformat_minor": 2
}
